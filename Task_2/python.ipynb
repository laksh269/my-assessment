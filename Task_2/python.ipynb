{
 "cells": [
  {
   "cell_type": "code",
   "execution_count": 2,
   "metadata": {},
   "outputs": [
    {
     "name": "stdout",
     "output_type": "stream",
     "text": [
      "Requirement already satisfied: scipy in /usr/local/lib/python3.10/site-packages (1.14.1)\n",
      "Requirement already satisfied: numpy<2.3,>=1.23.5 in /usr/local/lib/python3.10/site-packages (from scipy) (1.26.3)\n",
      "\u001b[33mWARNING: Running pip as the 'root' user can result in broken permissions and conflicting behaviour with the system package manager, possibly rendering your system unusable.It is recommended to use a virtual environment instead: https://pip.pypa.io/warnings/venv. Use the --root-user-action option if you know what you are doing and want to suppress this warning.\u001b[0m\u001b[33m\n",
      "\u001b[0m"
     ]
    }
   ],
   "source": [
    "!pip install scipy\n",
    "import os\n",
    "import pandas as pd\n",
    "import numpy as np\n",
    "from scipy.stats import gmean"
   ]
  },
  {
   "cell_type": "code",
   "execution_count": 3,
   "metadata": {},
   "outputs": [
    {
     "data": {
      "text/plain": [
       "\"\\nTo answer the following questions, make use of datasets: \\n    'scheduled_loan_repayments.csv'\\n    'actual_loan_repayments.csv'\\nThese files are located in the 'data' folder. \\n\\nAll loans have a loan term of 2 years with an annual interest rate of 10%. Repayments are scheduled monthly.\\nA type 1 default will occur on a loan when a repayment is missed.\\nA type 2 default will occur on a loan when more than 15% of the expected total payments are unpaid for the year.\\n\\n\""
      ]
     },
     "execution_count": 3,
     "metadata": {},
     "output_type": "execute_result"
    }
   ],
   "source": [
    "\"\"\"\n",
    "To answer the following questions, make use of datasets: \n",
    "    'scheduled_loan_repayments.csv'\n",
    "    'actual_loan_repayments.csv'\n",
    "These files are located in the 'data' folder. \n",
    "\n",
    "All loans have a loan term of 2 years with an annual interest rate of 10%. Repayments are scheduled monthly.\n",
    "A type 1 default will occur on a loan when a repayment is missed.\n",
    "A type 2 default will occur on a loan when more than 15% of the expected total payments are unpaid for the year.\n",
    "\n",
    "\"\"\""
   ]
  },
  {
   "cell_type": "code",
   "execution_count": 4,
   "metadata": {},
   "outputs": [
    {
     "ename": "NameError",
     "evalue": "name 'calculate_df_balances' is not defined",
     "output_type": "error",
     "traceback": [
      "\u001b[0;31m---------------------------------------------------------------------------\u001b[0m",
      "\u001b[0;31mNameError\u001b[0m                                 Traceback (most recent call last)",
      "Cell \u001b[0;32mIn[4], line 4\u001b[0m\n\u001b[1;32m      2\u001b[0m df_scheduled \u001b[38;5;241m=\u001b[39m pd\u001b[38;5;241m.\u001b[39mread_csv(root \u001b[38;5;241m+\u001b[39m \u001b[38;5;124m'\u001b[39m\u001b[38;5;124m/data/scheduled_loan_repayments.csv\u001b[39m\u001b[38;5;124m'\u001b[39m)\n\u001b[1;32m      3\u001b[0m df_actual \u001b[38;5;241m=\u001b[39m pd\u001b[38;5;241m.\u001b[39mread_csv(root \u001b[38;5;241m+\u001b[39m \u001b[38;5;124m'\u001b[39m\u001b[38;5;124m/data/actual_loan_repayments.csv\u001b[39m\u001b[38;5;124m'\u001b[39m)\n\u001b[0;32m----> 4\u001b[0m df_balances \u001b[38;5;241m=\u001b[39m \u001b[43mcalculate_df_balances\u001b[49m(df_scheduled,df_actual)\n",
      "\u001b[0;31mNameError\u001b[0m: name 'calculate_df_balances' is not defined"
     ]
    }
   ],
   "source": [
    "root = os.getcwd()\n",
    "df_scheduled = pd.read_csv(root + '/data/scheduled_loan_repayments.csv')\n",
    "df_actual = pd.read_csv(root + '/data/actual_loan_repayments.csv')\n",
    "df_balances = calculate_df_balances(df_scheduled,df_actual)"
   ]
  },
  {
   "cell_type": "code",
   "execution_count": 5,
   "metadata": {},
   "outputs": [],
   "source": [
    "def calculate_df_balances(df_scheduled,df_actual):\n",
    "    \"\"\" \n",
    "        This is a utility function that creates a merged dataframe that will be used in the following questions. \n",
    "        This function will not be graded directly.\n",
    "\n",
    "        Args:\n",
    "            df_scheduled (DataFrame): Dataframe created from the 'scheduled_loan_repayments.csv' dataset\n",
    "            df_actual (DataFrame): Dataframe created from the 'actual_loan_repayments.csv' dataset\n",
    "        \n",
    "        Returns:\n",
    "            DataFrame: A merged Dataframe \n",
    "\n",
    "            Columns after the merge should be: \n",
    "            ['RepaymentID', 'LoanID', 'Month', 'ActualRepayment', 'LoanAmount', 'ScheduledRepayment']\n",
    "\n",
    "            Additional columns to be used in later questions should include: \n",
    "            ['UnscheduledPrincipal', 'LoanBalanceStart, 'LoanBalanceEnd'] \n",
    "            Note: 'LoanBalanceStart' for the first month of each loan should equal the 'LoanAmount'\n",
    "\n",
    "            You may create other columns to assist you in your calculations. e.g:\n",
    "            ['InterestPayment']\n",
    "\n",
    "    \"\"\"\n",
    "\n",
    "    df_merged = pd.merge(df_actual, df_scheduled)\n",
    "\n",
    "    def calculate_balance(group):\n",
    "        \n",
    "        # Monthly interest rate calculated from an annual rate of 10%\n",
    "        r_monthly = 0.1 / 12  \n",
    "        \n",
    "        # Sort the group by 'Month'\n",
    "        group = group.sort_values('Month')\n",
    "\n",
    "        # Initialize lists to store balances, interest payments, and starting loan balances\n",
    "        balances = []  \n",
    "        interest_payments = []\n",
    "        loan_start_balances = []\n",
    "\n",
    "        # Calculate interest payment and new balances\n",
    "        for index, row in group.iterrows():\n",
    "            if balances:\n",
    "                interest_payment = balances[-1] * r_monthly\n",
    "                balance_with_interest = balances[-1] + interest_payment\n",
    "            else:\n",
    "                interest_payment = row['LoanAmount'] * r_monthly\n",
    "                balance_with_interest = row['LoanAmount'] + interest_payment\n",
    "                loan_start_balances.append(row['LoanAmount'])\n",
    "\n",
    "            new_balance = balance_with_interest - row['ActualRepayment']\n",
    "            interest_payments.append(interest_payment)\n",
    "            \n",
    "            # Calculate the new balance after applying the actual repayment\n",
    "            new_balance = max(0, new_balance)\n",
    "            balances.append(new_balance)\n",
    "\n",
    "        # Extend the loan start balances with calculated balances and remove the last entry to avoid misalignment\n",
    "        loan_start_balances.extend(balances)\n",
    "        loan_start_balances.pop()\n",
    "        group['LoanBalanceStart'] = loan_start_balances\n",
    "        group['LoanBalanceEnd'] = balances\n",
    "        group['InterestPayment'] = interest_payments\n",
    "        return group\n",
    "        \n",
    "    # Apply the calculate_balance function to each group of loans and reset index\n",
    "    df_balances = df_merged.groupby('LoanID').apply(calculate_balance).reset_index(drop=True)\n",
    "\n",
    "    # Round the final balances and interest payments to two decimal places for clarity\n",
    "    df_balances['LoanBalanceEnd'] = df_balances['LoanBalanceEnd'].round(2)\n",
    "    df_balances['InterestPayment'] = df_balances['InterestPayment'].round(2)\n",
    "    df_balances['LoanBalanceStart'] = df_balances['LoanBalanceStart'].round(2)\n",
    "\n",
    "    # Calculate scheduled principal and unscheduled principal repayments\n",
    "    df_balances['ScheduledPrincipal'] = df_balances['ScheduledRepayment'] - df_balances['InterestPayment']\n",
    "    df_balances['UnscheduledPrincipal'] = np.where(df_balances['ActualRepayment'] > df_balances['ScheduledRepayment'], df_balances['ActualRepayment'] - df_balances['ScheduledRepayment'], 0)\n",
    "\n",
    "    return df_balances"
   ]
  },
  {
   "cell_type": "code",
   "execution_count": 7,
   "metadata": {},
   "outputs": [
    {
     "name": "stderr",
     "output_type": "stream",
     "text": [
      "/tmp/ipykernel_25/307590033.py:66: DeprecationWarning: DataFrameGroupBy.apply operated on the grouping columns. This behavior is deprecated, and in a future version of pandas the grouping columns will be excluded from the operation. Either pass `include_groups=False` to exclude the groupings or explicitly select the grouping columns after groupby to silence this warning.\n",
      "  df_balances = df_merged.groupby('LoanID').apply(calculate_balance).reset_index(drop=True)\n"
     ]
    }
   ],
   "source": [
    "df_balances = calculate_df_balances(df_scheduled,df_actual)"
   ]
  },
  {
   "cell_type": "code",
   "execution_count": 8,
   "metadata": {},
   "outputs": [
    {
     "data": {
      "text/plain": [
       "15.0"
      ]
     },
     "execution_count": 8,
     "metadata": {},
     "output_type": "execute_result"
    }
   ],
   "source": [
    "def question_1(df_balances):\n",
    "    \"\"\" \n",
    "        Calculate the percent of loans that defaulted as per the type 1 default definition \n",
    "        \n",
    "        Args:\n",
    "            df_balances (DataFrame): Dataframe created from the 'calculate_df_balances()' function\n",
    "        \n",
    "        Returns:\n",
    "            float: The percentage of defaulted loans (type 1)\n",
    "\n",
    "    \"\"\"\n",
    "    # Find loans where at least one repayment was missed (ActualRepayment == 0)\n",
    "    defaulted_loans = df_balances[df_balances['ActualRepayment'] == 0]['LoanID'].unique()\n",
    "    \n",
    "    # Total number of unique loans in the dataset\n",
    "    total_loans = df_balances['LoanID'].nunique()\n",
    "    \n",
    "    # Calculate default rate as a percentage\n",
    "    default_rate_percent = round((len(defaulted_loans) / total_loans) * 100, 2)\n",
    "    \n",
    "    return default_rate_percent\n",
    "question_1(df_balances)"
   ]
  },
  {
   "cell_type": "code",
   "execution_count": 9,
   "metadata": {},
   "outputs": [
    {
     "data": {
      "text/plain": [
       "1.2"
      ]
     },
     "execution_count": 9,
     "metadata": {},
     "output_type": "execute_result"
    }
   ],
   "source": [
    "def question_2(df_balances):\n",
    "    \"\"\" \n",
    "        Calculate the percent of loans that defaulted as per the type 2 default definition.\n",
    "#        A type 2 default will occur on a loan when more than 15% of the expected total payments are unpaid for the year.\n",
    "\n",
    "        Args:\n",
    "            df_balances (DataFrame): Dataframe created from the 'calculate_df_balances()' function\n",
    "            df_scheduled (DataFrame): Dataframe created from the 'scheduled_loan_repayments.csv' dataset\n",
    "        \n",
    "        Returns:\n",
    "            float: The percentage of defaulted loans (type 2)\n",
    "\n",
    "    \"\"\"\n",
    "    # Calculate the total scheduled and actual repayments on each loan.\n",
    "    total_scheduled = df_balances.groupby('LoanID')['ScheduledRepayment'].sum()\n",
    "    total_actual = df_balances.groupby('LoanID')['ActualRepayment'].sum()\n",
    "    \n",
    "    # Calculate the percentage unpaid repayments.\n",
    "    repayment_diff_percent = (total_scheduled - total_actual)/ total_scheduled\n",
    "    \n",
    "    # Count loans where more than 15% of the expected total payments are unpaid.\n",
    "    n_defaulted_loans = (repayment_diff_percent > 0.15).sum()\n",
    "    \n",
    "    # Total number of loans\n",
    "    n_total_loans = df_balances['LoanID'].nunique()\n",
    "    \n",
    "    # Calculate the percentage of loans that defaulted as per the type 2 definition\n",
    "    default_rate_percent = (n_defaulted_loans/n_total_loans) * 100\n",
    "\n",
    "    \n",
    "    return default_rate_percent\n",
    "question_2(df_balances)"
   ]
  },
  {
   "cell_type": "code",
   "execution_count": 12,
   "metadata": {},
   "outputs": [
    {
     "data": {
      "text/plain": [
       "3.61"
      ]
     },
     "execution_count": 12,
     "metadata": {},
     "output_type": "execute_result"
    }
   ],
   "source": [
    "def question_3(df_balances):\n",
    "    \"\"\" \n",
    "        Calculate the annualized CPR (As a %) from the geometric mean SMM.\n",
    "        SMM is calculated as: (Unscheduled Principal)/(Start of Month Loan Balance)\n",
    "        CPR is calculated as: 1 - (1- SMM_mean)^12  \n",
    "\n",
    "        Args:\n",
    "            df_balances (DataFrame): Dataframe created from the 'calculate_df_balances()' function\n",
    "\n",
    "        Returns:\n",
    "            float: The annualized CPR of the loan portfolio as a percent.\n",
    "            \n",
    "    \"\"\"\n",
    "    # Calculate total Unscheduled Principal and Starting Loan Balance for all loans for each month\n",
    "    df_total_monthly = df_balances.groupby('Month')[['UnscheduledPrincipal', 'LoanBalanceStart']].sum().reset_index()\n",
    "\n",
    "    # Calculate the SMM for each month.\n",
    "    df_total_monthly['SMM'] = df_total_monthly['UnscheduledPrincipal']/df_total_monthly['LoanBalanceStart']\n",
    "\n",
    "    # Calculate the geometric mean SMM.\n",
    "    def geo_mean(iterable):\n",
    "        a = np.array(iterable)\n",
    "        return a.prod()**(1.0/len(a))\n",
    "    SMM_mean = geo_mean(df_total_monthly['SMM'])\n",
    "\n",
    "    # Calculate the annual CPR rate of the loan.\n",
    "    CPR_percent = round((1 - (1 - SMM_mean)**12)*100, 2)\n",
    "    \n",
    "    return CPR_percent\n",
    "    \n",
    "question_3(df_balances)"
   ]
  },
  {
   "cell_type": "code",
   "execution_count": 13,
   "metadata": {},
   "outputs": [
    {
     "data": {
      "text/plain": [
       "78365.85"
      ]
     },
     "execution_count": 13,
     "metadata": {},
     "output_type": "execute_result"
    }
   ],
   "source": [
    "def question_4(df_balances):\n",
    "    \"\"\" \n",
    "        Calculate the predicted total loss for the second year in the loan term.\n",
    "        Use the equation: probability_of_default * total_loan_balance * (1 - recovery_rate).\n",
    "        The probability_of_default value must be taken from either your question_1 or question_2 answer. \n",
    "        Decide between the two answers based on which default definition you believe to be the more useful metric.\n",
    "        Assume a recovery rate of 80% \n",
    "        \n",
    "        Args:\n",
    "            df_balances (DataFrame): Dataframe created from the 'calculate_df_balances()' function\n",
    "        \n",
    "        Returns:\n",
    "            float: The predicted total loss for the second year in the loan term.\n",
    "            \n",
    "    \"\"\"\n",
    "    # Type 2 default is being used in this equation as I believe it gives a more accurate representation of the entire year.\n",
    "    # Probability of default as shown as a rate.\n",
    "    prob_of_default = question_2(df_balances)/100\n",
    "    \n",
    "    # Assume recovery rate is 80%\n",
    "    recovery_rate = 0.80\n",
    "    \n",
    "    # Total loan balance for the second year (LoanBalanceStart)\n",
    "    total_loan_balance = df_balances[df_balances['Month'] == 12]['LoanBalanceEnd'].sum()\n",
    "    \n",
    "    # Apply the total loss equation\n",
    "    total_loss = round(prob_of_default * total_loan_balance * (1 - recovery_rate), 2)\n",
    "    \n",
    "    return total_loss\n",
    "\n",
    "question_4(df_balances)"
   ]
  }
 ],
 "metadata": {
  "kernelspec": {
   "display_name": "Python 3 (ipykernel)",
   "language": "python",
   "name": "python3"
  },
  "language_info": {
   "codemirror_mode": {
    "name": "ipython",
    "version": 3
   },
   "file_extension": ".py",
   "mimetype": "text/x-python",
   "name": "python",
   "nbconvert_exporter": "python",
   "pygments_lexer": "ipython3",
   "version": "3.10.15"
  }
 },
 "nbformat": 4,
 "nbformat_minor": 4
}
